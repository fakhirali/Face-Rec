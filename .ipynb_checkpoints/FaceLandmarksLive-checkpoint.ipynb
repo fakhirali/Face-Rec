{
 "cells": [
  {
   "cell_type": "code",
   "execution_count": 1,
   "metadata": {},
   "outputs": [],
   "source": [
    "import face_recognition\n",
    "import cv2\n",
    "import numpy as np\n",
    "import matplotlib.pyplot as plt"
   ]
  },
  {
   "cell_type": "code",
   "execution_count": null,
   "metadata": {},
   "outputs": [],
   "source": [
    "process_this_frame = True\n",
    "\n",
    "\n",
    "cap = cv2.VideoCapture(0)\n",
    "while(True):\n",
    "    # Capture frame-by-frame\n",
    "    ret, frame = cap.read()\n",
    "    save_fr = frame.copy()\n",
    "    if process_this_frame:\n",
    "\n",
    "        #smaller image for speed\n",
    "        #small_frame = cv2.resize(frame, (0, 0), fx=0.25, fy=0.25)\n",
    "        small_frame = frame\n",
    "        \n",
    "\n",
    "        # Convert the image from BGR color (which OpenCV uses) to RGB color (which face_recognition uses)\n",
    "        rgb_small_frame = small_frame[:, :, ::-1]\n",
    "        face_locations = face_recognition.face_locations(rgb_small_frame,model='cnn')\n",
    "        face_landmarks_list = face_recognition.face_landmarks(rgb_small_frame,model='large',\n",
    "                                                              face_locations = face_locations)\n",
    "        \n",
    "        \n",
    "    process_this_frame = not process_this_frame #process every other imaage\n",
    "    #cv2.addText(rgb_small_frame,)\n",
    "    if len(face_landmarks_list) > 0:\n",
    "        \n",
    "        for face_landmarks in face_landmarks_list:\n",
    "            for marks in face_landmarks.keys():\n",
    "                for point in face_landmarks[marks]:\n",
    "                    #point = (point[0]*4,point[1]*4)\n",
    "                    cv2.circle(frame,point,2,[0,255,0])\n",
    "        \n",
    "    \n",
    "    # Display the resulting frame\n",
    "    cv2.imshow('frame',frame)\n",
    "    #press q to exit loop\n",
    "    if cv2.waitKey(1) & 0xFF == ord('q'):\n",
    "        break\n",
    "\n",
    "cap.release()\n",
    "cv2.destroyAllWindows()"
   ]
  },
  {
   "cell_type": "code",
   "execution_count": null,
   "metadata": {},
   "outputs": [],
   "source": []
  }
 ],
 "metadata": {
  "kernelspec": {
   "display_name": "Python 3",
   "language": "python",
   "name": "python3"
  },
  "language_info": {
   "codemirror_mode": {
    "name": "ipython",
    "version": 3
   },
   "file_extension": ".py",
   "mimetype": "text/x-python",
   "name": "python",
   "nbconvert_exporter": "python",
   "pygments_lexer": "ipython3",
   "version": "3.6.4"
  }
 },
 "nbformat": 4,
 "nbformat_minor": 4
}
