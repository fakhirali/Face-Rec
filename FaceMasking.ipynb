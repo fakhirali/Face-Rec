{
 "cells": [
  {
   "cell_type": "code",
   "execution_count": 1,
   "metadata": {},
   "outputs": [],
   "source": [
    "import face_recognition\n",
    "import cv2\n",
    "import numpy as np\n",
    "import matplotlib.pyplot as plt"
   ]
  },
  {
   "cell_type": "code",
   "execution_count": 2,
   "metadata": {},
   "outputs": [],
   "source": [
    "original_mask = cv2.imread('CR.png')"
   ]
  },
  {
   "cell_type": "code",
   "execution_count": 5,
   "metadata": {},
   "outputs": [],
   "source": [
    "process_this_frame = True\n",
    "\n",
    "\n",
    "cap = cv2.VideoCapture(0)\n",
    "while(True):\n",
    "    # Capture frame-by-frame\n",
    "    ret, frame = cap.read()\n",
    "    save_fr = frame.copy()\n",
    "    if process_this_frame:\n",
    "\n",
    "        #smaller image for speed\n",
    "        #small_frame = cv2.resize(frame, (0, 0), fx=0.25, fy=0.25)\n",
    "        small_frame = frame\n",
    "        \n",
    "\n",
    "        # Convert the image from BGR color (which OpenCV uses) to RGB color (which face_recognition uses)\n",
    "        rgb_small_frame = small_frame[:, :, ::-1]\n",
    "        face_locations = face_recognition.face_locations(rgb_small_frame,model='cnn')\n",
    "        face_landmarks_list = face_recognition.face_landmarks(rgb_small_frame,model='large',\n",
    "                                                              face_locations = face_locations)\n",
    "        \n",
    "        \n",
    "    process_this_frame = not process_this_frame #process every other imaage\n",
    "    #cv2.addText(rgb_small_frame,)\n",
    "    if len(face_landmarks_list) > 0:\n",
    "        \n",
    "        left_most = face_landmarks_list[0]['chin'][0][0]\n",
    "        right_most = face_landmarks_list[0]['chin'][-1][0]\n",
    "        width = abs(left_most-right_most)\n",
    "        height = int((width/original_mask.shape[1])*original_mask.shape[0])\n",
    "        mask = cv2.resize(original_mask,(width,height))\n",
    "        how_high = face_landmarks_list[0]['left_eyebrow'][0][1] - face_landmarks_list[0]['nose_tip'][0][1]\n",
    "        how_high = face_landmarks_list[0]['left_eyebrow'][0][1] + how_high\n",
    "        \n",
    "        if how_high < mask.shape[0]:\n",
    "            mask = mask[mask.shape[0]-how_high:mask.shape[0] , 0 : mask.shape[1]]\n",
    "            mask_gray = cv2.cvtColor(mask, cv2.COLOR_BGR2GRAY)\n",
    "            _, masks_mask = cv2.threshold(mask_gray, 25, 255, cv2.THRESH_BINARY_INV)\n",
    "            area = frame[0:mask.shape[0] , left_most:right_most]\n",
    "            no_mask_mask = cv2.bitwise_and(area, area, mask=masks_mask)\n",
    "            final_mask = cv2.add(no_mask_mask, mask)\n",
    "            frame[0:mask.shape[0] , left_most:right_most] = final_mask\n",
    "        else:\n",
    "            mask_gray = cv2.cvtColor(mask, cv2.COLOR_BGR2GRAY)\n",
    "            _, masks_mask = cv2.threshold(mask_gray, 25, 255, cv2.THRESH_BINARY_INV)\n",
    "            area = frame[how_high - mask.shape[0]: how_high, left_most:right_most]\n",
    "            no_mask_mask = cv2.bitwise_and(area, area, mask=masks_mask)\n",
    "            final_mask = cv2.add(no_mask_mask, mask)\n",
    "            frame[how_high - mask.shape[0]: how_high, left_most:right_most] = final_mask\n",
    "        \n",
    "        pts = []\n",
    "        for pt in face_landmarks_list[0]['right_eye']:\n",
    "            pts.append([[pt[0],pt[1]]])\n",
    "        pts  = np.array(pts)\n",
    "        cv2.polylines(frame,[pts],True,[0,0,255])\n",
    "        cv2.fillPoly(frame,[pts],[0,0,255])\n",
    "        \n",
    "        pts = []\n",
    "        for pt in face_landmarks_list[0]['left_eye']:\n",
    "            pts.append([[pt[0],pt[1]]])\n",
    "        pts  = np.array(pts)\n",
    "        cv2.polylines(frame,[pts],True,[0,0,255])\n",
    "        cv2.fillPoly(frame,[pts],[0,0,255])\n",
    "    \n",
    "    # Display the resulting frame\n",
    "    cv2.imshow('frame',frame)\n",
    "    #press q to exit loop\n",
    "    if cv2.waitKey(1) & 0xFF == ord('q'):\n",
    "        break\n",
    "\n",
    "cap.release()\n",
    "cv2.destroyAllWindows()"
   ]
  },
  {
   "cell_type": "code",
   "execution_count": 12,
   "metadata": {},
   "outputs": [],
   "source": [
    "cap.release()\n",
    "cv2.destroyAllWindows()"
   ]
  },
  {
   "cell_type": "code",
   "execution_count": null,
   "metadata": {},
   "outputs": [],
   "source": []
  }
 ],
 "metadata": {
  "kernelspec": {
   "display_name": "Python 3",
   "language": "python",
   "name": "python3"
  },
  "language_info": {
   "codemirror_mode": {
    "name": "ipython",
    "version": 3
   },
   "file_extension": ".py",
   "mimetype": "text/x-python",
   "name": "python",
   "nbconvert_exporter": "python",
   "pygments_lexer": "ipython3",
   "version": "3.6.4"
  }
 },
 "nbformat": 4,
 "nbformat_minor": 4
}
